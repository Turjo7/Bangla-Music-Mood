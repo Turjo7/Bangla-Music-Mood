{
  "nbformat": 4,
  "nbformat_minor": 0,
  "metadata": {
    "colab": {
      "name": "Bangla Music Mood Model Final_31_July.ipynb",
      "version": "0.3.2",
      "provenance": [],
      "collapsed_sections": []
    },
    "kernelspec": {
      "name": "python3",
      "display_name": "Python 3"
    },
    "accelerator": "GPU"
  },
  "cells": [
    {
      "cell_type": "code",
      "metadata": {
        "id": "k1FfeTV18D3i",
        "colab_type": "code",
        "colab": {
          "base_uri": "https://localhost:8080/",
          "height": 326
        },
        "outputId": "ea66acb3-bd4c-4317-92a9-d1112653cc9d"
      },
      "source": [
        "!pip install watermark"
      ],
      "execution_count": 1,
      "outputs": [
        {
          "output_type": "stream",
          "text": [
            "Collecting watermark\n",
            "  Downloading https://files.pythonhosted.org/packages/c3/d4/2e7defa324d8188067e2362a023c4284935c940006306107cf3fee7f31e2/watermark-1.8.2-py2.py3-none-any.whl\n",
            "Requirement already satisfied: ipython in /usr/local/lib/python3.6/dist-packages (from watermark) (5.5.0)\n",
            "Requirement already satisfied: decorator in /usr/local/lib/python3.6/dist-packages (from ipython->watermark) (4.4.0)\n",
            "Requirement already satisfied: simplegeneric>0.8 in /usr/local/lib/python3.6/dist-packages (from ipython->watermark) (0.8.1)\n",
            "Requirement already satisfied: pexpect; sys_platform != \"win32\" in /usr/local/lib/python3.6/dist-packages (from ipython->watermark) (4.7.0)\n",
            "Requirement already satisfied: prompt-toolkit<2.0.0,>=1.0.4 in /usr/local/lib/python3.6/dist-packages (from ipython->watermark) (1.0.16)\n",
            "Requirement already satisfied: traitlets>=4.2 in /usr/local/lib/python3.6/dist-packages (from ipython->watermark) (4.3.2)\n",
            "Requirement already satisfied: pygments in /usr/local/lib/python3.6/dist-packages (from ipython->watermark) (2.1.3)\n",
            "Requirement already satisfied: setuptools>=18.5 in /usr/local/lib/python3.6/dist-packages (from ipython->watermark) (41.0.1)\n",
            "Requirement already satisfied: pickleshare in /usr/local/lib/python3.6/dist-packages (from ipython->watermark) (0.7.5)\n",
            "Requirement already satisfied: ptyprocess>=0.5 in /usr/local/lib/python3.6/dist-packages (from pexpect; sys_platform != \"win32\"->ipython->watermark) (0.6.0)\n",
            "Requirement already satisfied: wcwidth in /usr/local/lib/python3.6/dist-packages (from prompt-toolkit<2.0.0,>=1.0.4->ipython->watermark) (0.1.7)\n",
            "Requirement already satisfied: six>=1.9.0 in /usr/local/lib/python3.6/dist-packages (from prompt-toolkit<2.0.0,>=1.0.4->ipython->watermark) (1.12.0)\n",
            "Requirement already satisfied: ipython-genutils in /usr/local/lib/python3.6/dist-packages (from traitlets>=4.2->ipython->watermark) (0.2.0)\n",
            "Installing collected packages: watermark\n",
            "Successfully installed watermark-1.8.2\n"
          ],
          "name": "stdout"
        }
      ]
    },
    {
      "cell_type": "code",
      "metadata": {
        "id": "KuvlmER-9MpA",
        "colab_type": "code",
        "colab": {}
      },
      "source": [
        "%load_ext watermark"
      ],
      "execution_count": 0,
      "outputs": []
    },
    {
      "cell_type": "code",
      "metadata": {
        "id": "rYdNhUAH9QbX",
        "colab_type": "code",
        "colab": {
          "base_uri": "https://localhost:8080/",
          "height": 207
        },
        "outputId": "2412a657-a08f-4a7e-d0e7-c331ba3f56ed"
      },
      "source": [
        "%watermark -d -v -a 'Sebastian Raschka' -p scikit-learn,nltk,numpy"
      ],
      "execution_count": 3,
      "outputs": [
        {
          "output_type": "stream",
          "text": [
            "/usr/local/lib/python3.6/dist-packages/watermark/watermark.py:155: DeprecationWarning: Importing scikit-learn as `scikit-learn` has been depracated and will not be supported anymore in v1.7.0. Please use the package name `sklearn` instead.\n",
            "  DeprecationWarning)\n"
          ],
          "name": "stderr"
        },
        {
          "output_type": "stream",
          "text": [
            "Sebastian Raschka 2019-07-30 \n",
            "\n",
            "CPython 3.6.8\n",
            "IPython 5.5.0\n",
            "\n",
            "sklearn 0.21.2\n",
            "nltk 3.2.5\n",
            "numpy 1.16.4\n"
          ],
          "name": "stdout"
        }
      ]
    },
    {
      "cell_type": "code",
      "metadata": {
        "id": "mXusxAoh9Tof",
        "colab_type": "code",
        "colab": {
          "base_uri": "https://localhost:8080/",
          "height": 204
        },
        "outputId": "f03978d7-adf5-4cca-c2d4-4817f42262b8"
      },
      "source": [
        "import pandas as pd\n",
        "\n",
        "df = pd.read_csv('sample_data/train_lyrics_bangla.txt')\n",
        "\n",
        "df.head()"
      ],
      "execution_count": 4,
      "outputs": [
        {
          "output_type": "execute_result",
          "data": {
            "text/html": [
              "<div>\n",
              "<style scoped>\n",
              "    .dataframe tbody tr th:only-of-type {\n",
              "        vertical-align: middle;\n",
              "    }\n",
              "\n",
              "    .dataframe tbody tr th {\n",
              "        vertical-align: top;\n",
              "    }\n",
              "\n",
              "    .dataframe thead th {\n",
              "        text-align: right;\n",
              "    }\n",
              "</style>\n",
              "<table border=\"1\" class=\"dataframe\">\n",
              "  <thead>\n",
              "    <tr style=\"text-align: right;\">\n",
              "      <th></th>\n",
              "      <th>file</th>\n",
              "      <th>artist</th>\n",
              "      <th>title</th>\n",
              "      <th>lyrics</th>\n",
              "      <th>genre</th>\n",
              "      <th>mood</th>\n",
              "      <th>year</th>\n",
              "    </tr>\n",
              "  </thead>\n",
              "  <tbody>\n",
              "    <tr>\n",
              "      <th>0</th>\n",
              "      <td>NaN</td>\n",
              "      <td>নজরুল</td>\n",
              "      <td>ঘুমিয়ে গেছে</td>\n",
              "      <td>ঘুমিয়ে গেছে শ্রান্ত হ​য়ে আমার গানের বুলবুলি</td>\n",
              "      <td>নজ্রুল্গিতি</td>\n",
              "      <td>বেদনা</td>\n",
              "      <td>১৯৬৩</td>\n",
              "    </tr>\n",
              "    <tr>\n",
              "      <th>1</th>\n",
              "      <td>NaN</td>\n",
              "      <td>মিনার</td>\n",
              "      <td>দেয়ালে দেয়ালে</td>\n",
              "      <td>বলনা কেন তুমি বহুদূর কেন আমি একা হৃদয়ে ভাঙচুর ...</td>\n",
              "      <td>আধুনিক</td>\n",
              "      <td>বেদনা</td>\n",
              "      <td>২০১৬</td>\n",
              "    </tr>\n",
              "    <tr>\n",
              "      <th>2</th>\n",
              "      <td>NaN</td>\n",
              "      <td>সাবিনা ইয়াসমীন</td>\n",
              "      <td>তুমি যে আমার কবিতা</td>\n",
              "      <td>তুমি যে আমার কবিতা আমার বাঁশীর রাগিনী আমার স্ব...</td>\n",
              "      <td>আধুনিক</td>\n",
              "      <td>আনন্দ</td>\n",
              "      <td>১৯৯১</td>\n",
              "    </tr>\n",
              "    <tr>\n",
              "      <th>3</th>\n",
              "      <td>NaN</td>\n",
              "      <td>সুমন</td>\n",
              "      <td>বয়্‌স</td>\n",
              "      <td>বয়স তোমার শৈশব ছেলে সুন্দর এই সকাল ধুলোয় তোমার...</td>\n",
              "      <td>আধুনিক</td>\n",
              "      <td>আনন্দ</td>\n",
              "      <td>২০১২</td>\n",
              "    </tr>\n",
              "    <tr>\n",
              "      <th>4</th>\n",
              "      <td>NaN</td>\n",
              "      <td>বাচ্চু</td>\n",
              "      <td>ফেরারী এই মনটা আমার</td>\n",
              "      <td>ফেরারী এই মনটা আমার মানে না কোনো বাঁধা তোমাকে ...</td>\n",
              "      <td>ব্যান্ড</td>\n",
              "      <td>বেদনা</td>\n",
              "      <td>১৯৯৫</td>\n",
              "    </tr>\n",
              "  </tbody>\n",
              "</table>\n",
              "</div>"
            ],
            "text/plain": [
              "   file           artist                title  ...        genre   mood  year\n",
              "0   NaN            নজরুল         ঘুমিয়ে গেছে  ...  নজ্রুল্গিতি  বেদনা  ১৯৬৩\n",
              "1   NaN            মিনার        দেয়ালে দেয়ালে  ...       আধুনিক  বেদনা  ২০১৬\n",
              "2   NaN  সাবিনা ইয়াসমীন   তুমি যে আমার কবিতা  ...       আধুনিক  আনন্দ  ১৯৯১\n",
              "3   NaN             সুমন                বয়্‌স  ...       আধুনিক  আনন্দ  ২০১২\n",
              "4   NaN           বাচ্চু  ফেরারী এই মনটা আমার  ...      ব্যান্ড  বেদনা  ১৯৯৫\n",
              "\n",
              "[5 rows x 7 columns]"
            ]
          },
          "metadata": {
            "tags": []
          },
          "execution_count": 4
        }
      ]
    },
    {
      "cell_type": "code",
      "metadata": {
        "id": "8t31rXwz9cp5",
        "colab_type": "code",
        "colab": {
          "base_uri": "https://localhost:8080/",
          "height": 51
        },
        "outputId": "7b8fd369-33e7-4925-fa72-e225a743bcf8"
      },
      "source": [
        "from sklearn.preprocessing import LabelEncoder\n",
        "import pickle\n",
        "import numpy as np\n",
        "\n",
        "X_train = df['lyrics'].values \n",
        "\n",
        "y_train = df['mood'].values\n",
        "\n",
        "print('before: %s ...' %y_train[:5])\n",
        "\n",
        "le = LabelEncoder()\n",
        "le.fit(y_train)\n",
        "y_train = le.transform(y_train)\n",
        "\n",
        "print('after: %s ...' %y_train[:])\n"
      ],
      "execution_count": 7,
      "outputs": [
        {
          "output_type": "stream",
          "text": [
            "before: ['বেদনা' 'বেদনা' 'আনন্দ' 'আনন্দ' 'বেদনা'] ...\n",
            "after: [1 1 0 0 1 0 0 0 1 0] ...\n"
          ],
          "name": "stdout"
        }
      ]
    },
    {
      "cell_type": "code",
      "metadata": {
        "id": "jT9UCN_N9nlO",
        "colab_type": "code",
        "colab": {}
      },
      "source": [
        "# Save object to disk\n",
        "\n",
        "import pickle\n",
        "\n",
        "pickle_out = open('./lyrics_label_encoder_py.pkl', 'wb')\n",
        "pickle.dump(le, pickle_out)\n",
        "pickle_out.close()"
      ],
      "execution_count": 0,
      "outputs": []
    },
    {
      "cell_type": "code",
      "metadata": {
        "id": "MrZJo59a9rPe",
        "colab_type": "code",
        "colab": {
          "base_uri": "https://localhost:8080/",
          "height": 615
        },
        "outputId": "ece947c0-9d81-415a-d266-07181f921742"
      },
      "source": [
        "!pip install cltk"
      ],
      "execution_count": 9,
      "outputs": [
        {
          "output_type": "stream",
          "text": [
            "Collecting cltk\n",
            "\u001b[?25l  Downloading https://files.pythonhosted.org/packages/47/3c/643eeb3f1342fc19e88de83daba98a2da49c409313cdebf165986a5c477b/cltk-0.1.110.tar.gz (609kB)\n",
            "\u001b[K     |████████████████████████████████| 614kB 44.2MB/s \n",
            "\u001b[?25hCollecting gitpython (from cltk)\n",
            "\u001b[?25l  Downloading https://files.pythonhosted.org/packages/3c/d3/aecfe42163233de6071248ea7565e97ba1c51e345a9e1dcc128dd1e46c1e/GitPython-2.1.13-py2.py3-none-any.whl (452kB)\n",
            "\u001b[K     |████████████████████████████████| 460kB 49.0MB/s \n",
            "\u001b[?25hRequirement already satisfied: nltk in /usr/local/lib/python3.6/dist-packages (from cltk) (3.2.5)\n",
            "Collecting python-crfsuite (from cltk)\n",
            "\u001b[?25l  Downloading https://files.pythonhosted.org/packages/2f/86/cfcd71edca9d25d3d331209a20f6314b6f3f134c29478f90559cee9ce091/python_crfsuite-0.9.6-cp36-cp36m-manylinux1_x86_64.whl (754kB)\n",
            "\u001b[K     |████████████████████████████████| 757kB 46.7MB/s \n",
            "\u001b[?25hCollecting pyuca (from cltk)\n",
            "\u001b[?25l  Downloading https://files.pythonhosted.org/packages/98/88/aeeee34d88f841aca712a8c18fbd62a33eaad8f2dbe535e87f3c829b02f9/pyuca-1.2-py2.py3-none-any.whl (1.5MB)\n",
            "\u001b[K     |████████████████████████████████| 1.5MB 48.0MB/s \n",
            "\u001b[?25hRequirement already satisfied: pyyaml in /usr/local/lib/python3.6/dist-packages (from cltk) (3.13)\n",
            "Collecting regex (from cltk)\n",
            "\u001b[?25l  Downloading https://files.pythonhosted.org/packages/6f/4e/1b178c38c9a1a184288f72065a65ca01f3154df43c6ad898624149b8b4e0/regex-2019.06.08.tar.gz (651kB)\n",
            "\u001b[K     |████████████████████████████████| 655kB 45.6MB/s \n",
            "\u001b[?25hCollecting whoosh (from cltk)\n",
            "\u001b[?25l  Downloading https://files.pythonhosted.org/packages/ba/19/24d0f1f454a2c1eb689ca28d2f178db81e5024f42d82729a4ff6771155cf/Whoosh-2.7.4-py2.py3-none-any.whl (468kB)\n",
            "\u001b[K     |████████████████████████████████| 471kB 41.7MB/s \n",
            "\u001b[?25hCollecting gitdb2>=2.0.0 (from gitpython->cltk)\n",
            "\u001b[?25l  Downloading https://files.pythonhosted.org/packages/da/30/a407568aa8d8f25db817cf50121a958722f3fc5f87e3a6fba1f40c0633e3/gitdb2-2.0.5-py2.py3-none-any.whl (62kB)\n",
            "\u001b[K     |████████████████████████████████| 71kB 29.8MB/s \n",
            "\u001b[?25hRequirement already satisfied: six in /usr/local/lib/python3.6/dist-packages (from nltk->cltk) (1.12.0)\n",
            "Collecting smmap2>=2.0.0 (from gitdb2>=2.0.0->gitpython->cltk)\n",
            "  Downloading https://files.pythonhosted.org/packages/55/d2/866d45e3a121ee15a1dc013824d58072fd5c7799c9c34d01378eb262ca8f/smmap2-2.0.5-py2.py3-none-any.whl\n",
            "Building wheels for collected packages: cltk, regex\n",
            "  Building wheel for cltk (setup.py) ... \u001b[?25l\u001b[?25hdone\n",
            "  Stored in directory: /root/.cache/pip/wheels/8f/b2/fb/0d01e6387b5d50349564ace5f57a3082f006523c3edcb2d343\n",
            "  Building wheel for regex (setup.py) ... \u001b[?25l\u001b[?25hdone\n",
            "  Stored in directory: /root/.cache/pip/wheels/35/e4/80/abf3b33ba89cf65cd262af8a22a5a999cc28fbfabea6b38473\n",
            "Successfully built cltk regex\n",
            "Installing collected packages: smmap2, gitdb2, gitpython, python-crfsuite, pyuca, regex, whoosh, cltk\n",
            "Successfully installed cltk-0.1.110 gitdb2-2.0.5 gitpython-2.1.13 python-crfsuite-0.9.6 pyuca-1.2 regex-2019.6.8 smmap2-2.0.5 whoosh-2.7.4\n"
          ],
          "name": "stdout"
        }
      ]
    },
    {
      "cell_type": "code",
      "metadata": {
        "id": "geCqTgtg9vFj",
        "colab_type": "code",
        "colab": {
          "base_uri": "https://localhost:8080/",
          "height": 34
        },
        "outputId": "c2d7666b-e967-416f-eba8-dc9399978bc9"
      },
      "source": [
        "from cltk.corpus.utils.importer import CorpusImporter\n",
        "c = CorpusImporter('bengali')\n",
        "c.list_corpora"
      ],
      "execution_count": 10,
      "outputs": [
        {
          "output_type": "execute_result",
          "data": {
            "text/plain": [
              "['bengali_text_wikisource']"
            ]
          },
          "metadata": {
            "tags": []
          },
          "execution_count": 10
        }
      ]
    },
    {
      "cell_type": "code",
      "metadata": {
        "id": "YaizOuBv97Sh",
        "colab_type": "code",
        "colab": {}
      },
      "source": [
        "import string\n",
        "import re\n",
        "import unicodedata\n",
        "from cltk.tokenize.sentence import TokenizeSentence\n",
        "\n",
        "\n",
        "\n",
        "def porter_tokenizer(text):\n",
        "    \"\"\"\n",
        "    A Porter-Stemmer-Tokenizer hybrid to splits sentences into words (tokens) \n",
        "    and applies the porter stemming algorithm to each of the obtained token. \n",
        "    Tokens that are only consisting of punctuation characters are removed as well.\n",
        "    Only tokens that consist of more than one letter are being kept.\n",
        "    \n",
        "    Parameters\n",
        "    ----------\n",
        "        \n",
        "    text : `str`. \n",
        "      A sentence that is to split into words.\n",
        "        \n",
        "    Returns\n",
        "    ----------\n",
        "    \n",
        "    no_punct : `str`. \n",
        "      A list of tokens after stemming and removing Sentence punctuation patterns.\n",
        "    \n",
        "    \"\"\"\n",
        "    tokenizer = TokenizeSentence('bengali')\n",
        "    bengali_text_tokenize = tokenizer.tokenize(text)\n",
        "    bengali_text_tokenize\n",
        "    \n",
        "    \n",
        "    return bengali_text_tokenize"
      ],
      "execution_count": 0,
      "outputs": []
    },
    {
      "cell_type": "code",
      "metadata": {
        "id": "Ta2vuL9E_ho8",
        "colab_type": "code",
        "colab": {
          "base_uri": "https://localhost:8080/",
          "height": 136
        },
        "outputId": "0a97f66c-601c-4934-c537-c338c3e7781d"
      },
      "source": [
        "porter_tokenizer(\"নীল আকাশের নিচে আমি রাস্তা চলেছি'। একা এই সবুজ। শ্যামল মায়ায় দৃষ্টি পড়েছে ,ঢাকা। শনশন বাতাসের .গুঞ্জণ |হলো চঞ্চল করে ।এই মন আহা…ও ও হো…আহা। হা হা ও হো… ডাক দিয়ে| যায় কার দুটি| চোখ স্বপ্ন কাজল মাখা|\")"
      ],
      "execution_count": 21,
      "outputs": [
        {
          "output_type": "execute_result",
          "data": {
            "text/plain": [
              "[\"নীল আকাশের নিচে আমি রাস্তা চলেছি'।\",\n",
              " 'একা এই সবুজ।',\n",
              " 'শ্যামল মায়ায় দৃষ্টি পড়েছে ,ঢাকা।',\n",
              " 'শনশন বাতাসের .গুঞ্জণ |হলো চঞ্চল করে ।এই মন আহা…ও ও হো…আহা।',\n",
              " 'হা হা ও হো… ডাক দিয়ে|',\n",
              " 'যায় কার দুটি|',\n",
              " 'চোখ স্বপ্ন কাজল মাখা|']"
            ]
          },
          "metadata": {
            "tags": []
          },
          "execution_count": 21
        }
      ]
    },
    {
      "cell_type": "code",
      "metadata": {
        "id": "qPvLjLj0AzPA",
        "colab_type": "code",
        "colab": {
          "base_uri": "https://localhost:8080/",
          "height": 34
        },
        "outputId": "07e92a71-a6ae-4edf-bc14-00abf4b36da4"
      },
      "source": [
        "import unicodedata\n",
        "map(unicodedata.name, u'কয়া')"
      ],
      "execution_count": 22,
      "outputs": [
        {
          "output_type": "execute_result",
          "data": {
            "text/plain": [
              "<map at 0x7efc828bba90>"
            ]
          },
          "metadata": {
            "tags": []
          },
          "execution_count": 22
        }
      ]
    },
    {
      "cell_type": "code",
      "metadata": {
        "id": "dzBr9tz5A3jj",
        "colab_type": "code",
        "colab": {
          "base_uri": "https://localhost:8080/",
          "height": 54
        },
        "outputId": "5bf42870-d3c7-4547-a6d8-3f2342851ddc"
      },
      "source": [
        "# Commented out to prevent overwriting files:\n",
        "#\n",
        "# stp = nltk.corpus.stopwords.words('english')\n",
        "# with open('./stopwords_eng.txt', 'w') as outfile:\n",
        "#    outfile.write('\\n'.join(stp))\n",
        "    \n",
        "    \n",
        "with open('sample_data/stopwords_bangla.txt', 'r') as infile:\n",
        "   stop_words = infile.read().splitlines()\n",
        "print('stop words %s ...' %stop_words[:])"
      ],
      "execution_count": 24,
      "outputs": [
        {
          "output_type": "stream",
          "text": [
            "stop words ['\\ufeffঅতএব', 'অথচ', 'অথবা', 'অনুযায়ী', 'অনেক', 'অনেকে', 'অনেকেই', 'অন্তত', 'অন্য', 'অবধি', 'অবশ্য', 'অর্থাত', 'আই', 'আগামী', 'আগে', 'আগেই', 'আছে', 'আজ', 'আদ্যভাগে', 'আপনার', 'আপনি', 'আবার', 'আমরা', 'আমাকে', 'আমাদের', 'আমার', 'আমি', 'আর', 'আরও', 'ই', 'ইত্যাদি', 'ইহা', 'উচিত', 'উত্তর', 'উনি', 'উপর', 'উপরে', 'এ', 'এঁদের', 'এঁরা', 'এই', 'একই', 'একটি', 'একবার', 'একে', 'এক্', 'এখন', 'এখনও', 'এখানে', 'এখানেই', 'এটা', 'এটাই', 'এটি', 'এত', 'এতটাই', 'এতে', 'এদের', 'এব', 'এবং', 'এবার', 'এমন', 'এমনকী', 'এমনি', 'এর', 'এরা', 'এল', 'এস', 'এসে', 'ঐ', 'ও', 'ওঁদের', 'ওঁর', 'ওঁরা', 'ওই', 'ওকে', 'ওখানে', 'ওদের', 'ওর', 'ওরা', 'কখনও', 'কত', 'কবে', 'কমনে', 'কয়েক', 'কয়েকটি', 'করছে', 'করছেন', 'করতে', 'করবে', 'করবেন', 'করলে', 'করলেন', 'করা', 'করাই', 'করায়', 'করার', 'করি', 'করিতে', 'করিয়া', 'করিয়ে', 'করে', 'করেই', 'করেছিলেন', 'করেছে', 'করেছেন', 'করেন', 'কাউকে', 'কাছ', 'কাছে', 'কাজ', 'কাজে', 'কারও', 'কারণ', 'কি', 'কিংবা', 'কিছু', 'কিছুই', 'কিন্তু', 'কী', 'কে', 'কেউ', 'কেউই', 'কেখা', 'কেন', 'কোটি', 'কোন', 'কোনও', 'কোনো', 'ক্ষেত্রে', 'কয়েক', 'খুব', 'গিয়ে', 'গিয়েছে', 'গিয়ে', 'গুলি', 'গেছে', 'গেল', 'গেলে', 'গোটা', 'চলে', 'চান', 'চায়', 'চার', 'চালু', 'চেয়ে', 'চেষ্টা', 'ছাড়া', 'ছাড়াও', 'ছিল', 'ছিলেন', 'জন', 'জনকে', 'জনের', 'জন্য', 'জন্যওজে', 'জানতে', 'জানা', 'জানানো', 'জানায়', 'জানিয়ে', 'জানিয়েছে', 'জে', 'জ্নজন', 'টি', 'ঠিক', 'তখন', 'তত', 'তথা', 'তবু', 'তবে', 'তা', 'তাঁকে', 'তাঁদের', 'তাঁর', 'তাঁরা', 'তাঁাহারা', 'তাই', 'তাও', 'তাকে', 'তাতে', 'তাদের', 'তার', 'তারপর', 'তারা', 'তারৈ', 'তাহলে', 'তাহা', 'তাহাতে', 'তাহার', 'তিনঐ', 'তিনি', 'তিনিও', 'তুমি', 'তুলে', 'তেমন', 'তো', 'তোমার', 'থাকবে', 'থাকবেন', 'থাকা', 'থাকায়', 'থাকে', 'থাকেন', 'থেকে', 'থেকেই', 'থেকেও', 'দিকে', 'দিতে', 'দিন', 'দিয়ে', 'দিয়েছে', 'দিয়েছেন', 'দিলেন', 'দু', 'দুই', 'দুটি', 'দুটো', 'দেওয়া', 'দেওয়ার', 'দেওয়া', 'দেখতে', 'দেখা', 'দেখে', 'দেন', 'দেয়', 'দ্বারা', 'ধরা', 'ধরে', 'ধামার', 'নতুন', 'নয়', 'না', 'নাই', 'নাকি', 'নাগাদ', 'নানা', 'নিজে', 'নিজেই', 'নিজেদের', 'নিজের', 'নিতে', 'নিয়ে', 'নিয়ে', 'নেই', 'নেওয়া', 'নেওয়ার', 'নেওয়া', 'নয়', 'পক্ষে', 'পর', 'পরে', 'পরেই', 'পরেও', 'পর্যন্ত', 'পাওয়া', 'পাচ', 'পারি', 'পারে', 'পারেন', 'পি', 'পেয়ে', 'পেয়্র্', 'প্রতি', 'প্রথম', 'প্রভৃতি', 'প্রযন্ত', 'প্রাথমিক', 'প্রায়', 'প্রায়', 'ফলে', 'ফিরে', 'ফের', 'বক্তব্য', 'বদলে', 'বন', 'বরং', 'বলতে', 'বলল', 'বললেন', 'বলা', 'বলে', 'বলেছেন', 'বলেন', 'বসে', 'বহু', 'বা', 'বাদে', 'বার', 'বি', 'বিনা', 'বিভিন্ন', 'বিশেষ', 'বিষয়টি', 'বেশ', 'বেশি', 'ব্যবহার', 'ব্যাপারে', 'ভাবে', 'ভাবেই', 'মতো', 'মতোই', 'মধ্যভাগে', 'মধ্যে', 'মধ্যেই', 'মধ্যেও', 'মনে', 'মাত্র', 'মাধ্যমে', 'মোট', 'মোটেই', 'যখন', 'যত', 'যতটা', 'যথেষ্ট', 'যদি', 'যদিও', 'যা', 'যাঁর', 'যাঁরা', 'যাওয়া', 'যাওয়ার', 'যাওয়া', 'যাকে', 'যাচ্ছে', 'যাতে', 'যাদের', 'যান', 'যাবে', 'যায়', 'যার', 'যারা', 'যিনি', 'যে', 'যেখানে', 'যেতে', 'যেন', 'যেমন', 'র', 'রকম', 'রয়েছে', 'রাখা', 'রেখে', 'লক্ষ', 'শুধু', 'শুরু', 'সঙ্গে', 'সঙ্গেও', 'সব', 'সবার', 'সমস্ত', 'সম্প্রতি', 'সহ', 'সহিত', 'সাধারণ', 'সামনে', 'সি', 'সুতরাং', 'সে', 'সেই', 'সেখান', 'সেখানে', 'সেটা', 'সেটাই', 'সেটাও', 'সেটি', 'স্পষ্ট', 'স্বয়ং', 'হইতে', 'হইবে', 'হইয়া', 'হওয়া', 'হওয়ায়', 'হওয়ার', 'হচ্ছে', 'হত', 'হতে', 'হতেই', 'হন', 'হবে', 'হবেন', 'হয়', 'হয়তো', 'হয়নি', 'হয়ে', 'হয়েই', 'হয়েছিল', 'হয়েছে', 'হয়েছেন', 'হল', 'হলে', 'হলেই', 'হলেও', 'হলো', 'হাজার', 'হিসাবে', 'হৈলে', 'হোক', 'হয়'] ...\n"
          ],
          "name": "stdout"
        }
      ]
    },
    {
      "cell_type": "code",
      "metadata": {
        "id": "PNkBmP1FBxRd",
        "colab_type": "code",
        "colab": {}
      },
      "source": [
        "# Count Vectorizer\n",
        "\n",
        "from sklearn.feature_extraction.text import CountVectorizer\n",
        "\n",
        "vec = CountVectorizer(\n",
        "            encoding='utf-8',\n",
        "            decode_error='replace',\n",
        "            strip_accents='unicode',\n",
        "            analyzer='word',\n",
        "            binary=False,\n",
        "            stop_words=stop_words,\n",
        "            tokenizer=porter_tokenizer,\n",
        "            ngram_range=(1,1)\n",
        "    )"
      ],
      "execution_count": 0,
      "outputs": []
    },
    {
      "cell_type": "code",
      "metadata": {
        "id": "L6fvWdfSB-vC",
        "colab_type": "code",
        "colab": {
          "base_uri": "https://localhost:8080/",
          "height": 105
        },
        "outputId": "b6b8b361-f53a-4655-d5b9-fdacd5fad307"
      },
      "source": [
        "!pip install bangla"
      ],
      "execution_count": 26,
      "outputs": [
        {
          "output_type": "stream",
          "text": [
            "Collecting bangla\n",
            "  Downloading https://files.pythonhosted.org/packages/ea/2a/0dc2b2112f2cdac8694f1f782b4ea45a0693e453b76e21f224bad340591d/bangla-0.0.2-py2.py3-none-any.whl\n",
            "Installing collected packages: bangla\n",
            "Successfully installed bangla-0.0.2\n"
          ],
          "name": "stdout"
        }
      ]
    },
    {
      "cell_type": "code",
      "metadata": {
        "id": "UDxr2qwQCDcq",
        "colab_type": "code",
        "colab": {
          "base_uri": "https://localhost:8080/",
          "height": 139
        },
        "outputId": "6819386a-e75b-4ecb-afb1-138ee72558d8"
      },
      "source": [
        "vocab = [\"ঘুমিয়ে গেছে,ঘুমিয়ে গেছে শ্রান্ত.হয়ে আমার গানের বুলবুলি\"]\n",
        "\n",
        "vec = vec.fit(vocab)\n",
        "\n",
        "sentence1 = vec.transform(['ঘুমিয়ে গেছ'])\n",
        "sentence2 = vec.transform(['ঘুমিয়ে'])\n",
        "\n",
        "\n",
        "print('TEST:')\n",
        "print('Vocabulary: %s' %vec.get_feature_names())\n",
        "print('Sentence 1: %s' %sentence1.toarray())\n",
        "print('Sentence 2: %s' %sentence2.toarray())"
      ],
      "execution_count": 27,
      "outputs": [
        {
          "output_type": "stream",
          "text": [
            "TEST:\n",
            "Vocabulary: ['ঘুমিয়ে গেছে,ঘুমিয়ে গেছে শ্রান্ত.হয়ে আমার গানের বুলবুলি']\n",
            "Sentence 1: [[0]]\n",
            "Sentence 2: [[0]]\n"
          ],
          "name": "stdout"
        },
        {
          "output_type": "stream",
          "text": [
            "/usr/local/lib/python3.6/dist-packages/sklearn/feature_extraction/text.py:300: UserWarning: Your stop_words may be inconsistent with your preprocessing. Tokenizing the stop words generated tokens ['কযেক', 'কোটি', 'কোন', 'কোনও', 'কোনো', 'গিযে', 'গোটা', 'জানানো', 'তো', 'তোমার', 'দুটো', 'দেওযা', 'নয', 'নিযে', 'নেওযা', 'পরায', 'পেযর', 'মতো', 'মতোই', 'মোট', 'মোটেই', 'যাওযা', 'হয', 'হযতো', 'হলো', 'হোক'] not in stop_words.\n",
            "  'stop_words.' % sorted(inconsistent))\n"
          ],
          "name": "stderr"
        }
      ]
    },
    {
      "cell_type": "code",
      "metadata": {
        "id": "KUCNn9ViCIRf",
        "colab_type": "code",
        "colab": {
          "base_uri": "https://localhost:8080/",
          "height": 51
        },
        "outputId": "8b27627a-efbb-47ff-90e1-a1e86af61857"
      },
      "source": [
        "from sklearn.feature_extraction.text import CountVectorizer\n",
        "corpus = ['নতুন ভোর উঠলো সুরে নিলো তোমার ঘুমকে তুলে তখন ','বেদনার বর্ণ বিহীন এ জীবনে যেন আসে এমনি স্বপ্নের দিন সেই ভাবনায় ভাবি মনে ','তুমি ছুয়ে দিলে মন']\n",
        "vec = CountVectorizer()\n",
        "x = vec.fit_transform(corpus).toarray()\n",
        "print(x.shape)\n",
        "print(vec.get_feature_names())"
      ],
      "execution_count": 28,
      "outputs": [
        {
          "output_type": "stream",
          "text": [
            "(3, 11)\n",
            "['আস', 'উঠল', 'এমন', 'তখন', 'দন', 'নত', 'বন', 'বপ', 'বর', 'মক', 'মন']\n"
          ],
          "name": "stdout"
        }
      ]
    },
    {
      "cell_type": "code",
      "metadata": {
        "id": "MsFhDAWKCPSa",
        "colab_type": "code",
        "colab": {}
      },
      "source": [
        "vec = vec.fit(X_train.ravel())"
      ],
      "execution_count": 0,
      "outputs": []
    },
    {
      "cell_type": "code",
      "metadata": {
        "id": "x_wT8bw7CSkd",
        "colab_type": "code",
        "colab": {
          "base_uri": "https://localhost:8080/",
          "height": 34
        },
        "outputId": "75dcb54a-d7ea-4a1f-e93c-74bd57ef3645"
      },
      "source": [
        "print('Vocabulary size: %s' %len(vec.get_feature_names()))"
      ],
      "execution_count": 30,
      "outputs": [
        {
          "output_type": "stream",
          "text": [
            "Vocabulary size: 78\n"
          ],
          "name": "stdout"
        }
      ]
    },
    {
      "cell_type": "code",
      "metadata": {
        "id": "TGF1VuiyCZAO",
        "colab_type": "code",
        "colab": {
          "base_uri": "https://localhost:8080/",
          "height": 119
        },
        "outputId": "313262d5-b1af-4ffb-8008-d94baec71ef6"
      },
      "source": [
        "corpus = ['নতুন ভোর উঠলো সুরে নিলো তোমার ঘুমকে তুলে তখন ','বেদনার বর্ণ বিহীন এ জীবনে যেন আসে এমনি স্বপ্নের দিন সেই ভাবনায় ভাবি মনে ','তুমি ছুয়ে দিলে মন']\n",
        "vec = CountVectorizer()\n",
        "x = vec.fit_transform(corpus).toarray()\n",
        "print(x.shape)\n",
        "print(vec.get_feature_names())\n",
        "\n",
        "sentence1 = vec.transform([u'নতুন ভোর উঠলো সুরে নিলো তোমার ঘুমকে তুলে তখন'])\n",
        "sentence2 = vec.transform(['বেদনার বর্ণ বিহীন এ জীবনে যেন আসে এমনি স্বপ্নের দিন'])\n",
        "\n",
        "\n",
        "print('TEST:')\n",
        "print('Vocabulary: %s' %vec.get_feature_names())\n",
        "print('Sentence 1: %s' %sentence1.toarray())\n",
        "print('Sentence 2: %s' %sentence2.toarray())"
      ],
      "execution_count": 31,
      "outputs": [
        {
          "output_type": "stream",
          "text": [
            "(3, 11)\n",
            "['আস', 'উঠল', 'এমন', 'তখন', 'দন', 'নত', 'বন', 'বপ', 'বর', 'মক', 'মন']\n",
            "TEST:\n",
            "Vocabulary: ['আস', 'উঠল', 'এমন', 'তখন', 'দন', 'নত', 'বন', 'বপ', 'বর', 'মক', 'মন']\n",
            "Sentence 1: [[0 1 0 1 0 1 0 0 0 1 0]]\n",
            "Sentence 2: [[1 0 1 0 1 0 1 1 1 0 0]]\n"
          ],
          "name": "stdout"
        }
      ]
    },
    {
      "cell_type": "code",
      "metadata": {
        "id": "tQTwYOPICauT",
        "colab_type": "code",
        "colab": {}
      },
      "source": [
        "from sklearn.feature_extraction.text import TfidfVectorizer\n",
        "\n",
        "tfidf = TfidfVectorizer(\n",
        "            encoding='utf-8',\n",
        "            decode_error='replace',\n",
        "            strip_accents='unicode',\n",
        "            analyzer='word',\n",
        "            binary=False,\n",
        "            stop_words=stop_words,\n",
        "            tokenizer=porter_tokenizer\n",
        "    )"
      ],
      "execution_count": 0,
      "outputs": []
    },
    {
      "cell_type": "code",
      "metadata": {
        "id": "raR_mTsXCfDL",
        "colab_type": "code",
        "colab": {
          "base_uri": "https://localhost:8080/",
          "height": 34
        },
        "outputId": "bf594c2e-4ddf-42d5-8d4e-764ad19b9ef0"
      },
      "source": [
        "tfidf = vec.fit(X_train.ravel())\n",
        "\n",
        "print('Vocabulary size: %s' %len(tfidf.get_feature_names()))"
      ],
      "execution_count": 33,
      "outputs": [
        {
          "output_type": "stream",
          "text": [
            "Vocabulary size: 78\n"
          ],
          "name": "stdout"
        }
      ]
    },
    {
      "cell_type": "code",
      "metadata": {
        "id": "WZhVp4sxCkHn",
        "colab_type": "code",
        "colab": {}
      },
      "source": [
        "from sklearn.naive_bayes import MultinomialNB\n",
        "from sklearn.naive_bayes import BernoulliNB\n",
        "from sklearn.pipeline import Pipeline"
      ],
      "execution_count": 0,
      "outputs": []
    },
    {
      "cell_type": "code",
      "metadata": {
        "id": "Do9MkDrvCodK",
        "colab_type": "code",
        "colab": {}
      },
      "source": [
        "# Custom scorer methods to account for positive-negative class labels\n",
        "\n",
        "from sklearn import metrics\n",
        "\n",
        "# `pos_label` for positive class, since we have sad=1, happy=0\n",
        "\n",
        "f1_scorer = metrics.make_scorer(metrics.f1_score, greater_is_better=True, pos_label=0)"
      ],
      "execution_count": 0,
      "outputs": []
    },
    {
      "cell_type": "code",
      "metadata": {
        "id": "k8Hf91faCrqf",
        "colab_type": "code",
        "colab": {
          "base_uri": "https://localhost:8080/",
          "height": 1000
        },
        "outputId": "4706a8ab-af83-4a71-c596-a0c33f464728"
      },
      "source": [
        "from sklearn.model_selection import GridSearchCV\n",
        "from pprint import pprint\n",
        "\n",
        "pipeline_1 = Pipeline([\n",
        "    ('vect', CountVectorizer()),\n",
        "    ('clf', BernoulliNB())\n",
        "])\n",
        "\n",
        "parameters_1 = dict(\n",
        "    vect__binary=[True],\n",
        "    vect__stop_words=[stop_words, None],\n",
        "    vect__tokenizer=[porter_tokenizer, None],\n",
        "    vect__ngram_range=[(1,1), (2,2), (3,3)],\n",
        ")\n",
        "\n",
        "grid_search_1 = GridSearchCV(pipeline_1, \n",
        "                           parameters_1, \n",
        "                           n_jobs=110, \n",
        "                           verbose=110,\n",
        "                           scoring=f1_scorer,\n",
        "                           cv=2\n",
        "                )\n",
        "\n",
        "\n",
        "print(\"Performing grid search...\")\n",
        "print(\"pipeline:\", [name for name, _ in pipeline_1.steps])\n",
        "print(\"parameters:\")\n",
        "pprint(parameters_1, depth=2)\n",
        "grid_search_1.fit(X_train, y_train)\n",
        "print(\"Best score: %0.3f\" % grid_search_1.best_score_)\n",
        "print(\"Best parameters set:\")\n",
        "best_parameters_1 = grid_search_1.best_estimator_.get_params()\n",
        "for param_name in sorted(parameters_1.keys()):\n",
        "    print(\"\\t%s: %r\" % (param_name, best_parameters_1[param_name]))"
      ],
      "execution_count": 49,
      "outputs": [
        {
          "output_type": "stream",
          "text": [
            "Performing grid search...\n",
            "pipeline: ['vect', 'clf']\n",
            "parameters:\n",
            "{'vect__binary': [True],\n",
            " 'vect__ngram_range': [(...), (...), (...)],\n",
            " 'vect__stop_words': [[...], None],\n",
            " 'vect__tokenizer': [<function porter_tokenizer at 0x7efc828a2a60>, None]}\n",
            "Fitting 2 folds for each of 12 candidates, totalling 24 fits\n",
            "[Parallel(n_jobs=110)]: Using backend LokyBackend with 110 concurrent workers.\n",
            "Pickling array (shape=(10,), dtype=object).\n",
            "Pickling array (shape=(10,), dtype=int64).\n",
            "Pickling array (shape=(5,), dtype=int64).\n",
            "Pickling array (shape=(5,), dtype=int64).\n",
            "Pickling array (shape=(10,), dtype=object).\n",
            "Pickling array (shape=(10,), dtype=int64).\n",
            "Pickling array (shape=(5,), dtype=int64).\n",
            "Pickling array (shape=(5,), dtype=int64).\n",
            "Pickling array (shape=(10,), dtype=object).\n",
            "Pickling array (shape=(10,), dtype=int64).\n",
            "Pickling array (shape=(5,), dtype=int64).\n",
            "Pickling array (shape=(5,), dtype=int64).\n",
            "Pickling array (shape=(10,), dtype=object).\n",
            "Pickling array (shape=(10,), dtype=int64).\n",
            "Pickling array (shape=(5,), dtype=int64).\n",
            "Pickling array (shape=(5,), dtype=int64).\n",
            "Pickling array (shape=(10,), dtype=object).\n",
            "Pickling array (shape=(10,), dtype=int64).\n",
            "Pickling array (shape=(5,), dtype=int64).\n",
            "Pickling array (shape=(5,), dtype=int64).\n",
            "Pickling array (shape=(10,), dtype=object).\n",
            "Pickling array (shape=(10,), dtype=int64).\n",
            "Pickling array (shape=(5,), dtype=int64).\n",
            "Pickling array (shape=(5,), dtype=int64).\n",
            "Pickling array (shape=(10,), dtype=object).\n",
            "Pickling array (shape=(10,), dtype=int64).\n",
            "Pickling array (shape=(5,), dtype=int64).\n",
            "Pickling array (shape=(5,), dtype=int64).\n",
            "Pickling array (shape=(10,), dtype=object).\n",
            "Pickling array (shape=(10,), dtype=int64).\n",
            "Pickling array (shape=(5,), dtype=int64).\n",
            "Pickling array (shape=(5,), dtype=int64).\n",
            "[Parallel(n_jobs=110)]: Done   1 tasks      | elapsed:   25.7s\n",
            "Pickling array (shape=(10,), dtype=object).\n",
            "Pickling array (shape=(10,), dtype=int64).\n",
            "Pickling array (shape=(5,), dtype=int64).\n",
            "Pickling array (shape=(5,), dtype=int64).\n",
            "Pickling array (shape=(10,), dtype=object).\n",
            "Pickling array (shape=(10,), dtype=int64).\n",
            "Pickling array (shape=(5,), dtype=int64).\n",
            "Pickling array (shape=(5,), dtype=int64).\n",
            "Pickling array (shape=(10,), dtype=object).\n",
            "Pickling array (shape=(10,), dtype=int64).\n",
            "Pickling array (shape=(5,), dtype=int64).\n",
            "Pickling array (shape=(5,), dtype=int64).\n",
            "Pickling array (shape=(10,), dtype=object).\n",
            "Pickling array (shape=(10,), dtype=int64).\n",
            "Pickling array (shape=(5,), dtype=int64).[Parallel(n_jobs=110)]: Done   2 out of  24 | elapsed:   25.8s remaining:  4.7min\n",
            "\n",
            "Pickling array (shape=(5,), dtype=int64).\n",
            "[Parallel(n_jobs=110)]: Done   3 out of  24 | elapsed:   25.8s remaining:  3.0min\n",
            "Pickling array (shape=(10,), dtype=object).\n",
            "Pickling array (shape=(10,), dtype=int64).\n",
            "Pickling array (shape=(5,), dtype=int64).\n",
            "Pickling array (shape=(5,), dtype=int64).\n",
            "Pickling array (shape=(10,), dtype=object).\n",
            "Pickling array (shape=(10,), dtype=int64).\n",
            "Pickling array (shape=(5,), dtype=int64).\n",
            "Pickling array (shape=(5,), dtype=int64).\n",
            "Pickling array (shape=(10,), dtype=object).\n",
            "Pickling array (shape=(10,), dtype=int64).\n",
            "Pickling array (shape=(5,), dtype=int64).\n",
            "Pickling array (shape=(5,), dtype=int64).\n",
            "Pickling array (shape=(10,), dtype=object).\n",
            "Pickling array (shape=(10,), dtype=int64).\n",
            "Pickling array (shape=(5,), dtype=int64).\n",
            "Pickling array (shape=(5,), dtype=int64).\n",
            "[Parallel(n_jobs=110)]: Done   4 out of  24 | elapsed:   25.9s remaining:  2.2min\n",
            "Pickling array (shape=(10,), dtype=object).\n",
            "Pickling array (shape=(10,), dtype=int64).\n",
            "Pickling array (shape=(5,), dtype=int64).\n",
            "Pickling array (shape=(5,), dtype=int64).\n",
            "Pickling array (shape=(10,), dtype=object).\n",
            "Pickling array (shape=(10,), dtype=int64).\n",
            "Pickling array (shape=(5,), dtype=int64).\n",
            "Pickling array (shape=(5,), dtype=int64).\n",
            "Pickling array (shape=(10,), dtype=object).\n",
            "Pickling array (shape=(10,), dtype=int64).\n",
            "Pickling array (shape=(5,), dtype=int64).\n",
            "Pickling array (shape=(5,), dtype=int64).\n",
            "Pickling array (shape=(10,), dtype=object).\n",
            "Pickling array (shape=(10,), dtype=int64).\n",
            "Pickling array (shape=(5,), dtype=int64).\n",
            "Pickling array (shape=(5,), dtype=int64).\n",
            "Pickling array (shape=(10,), dtype=object).\n",
            "Pickling array (shape=(10,), dtype=int64).\n",
            "Pickling array (shape=(5,), dtype=int64).\n",
            "Pickling array (shape=(5,), dtype=int64).\n",
            "[Parallel(n_jobs=110)]: Done   5 out of  24 | elapsed:   28.6s remaining:  1.8min\n",
            "Pickling array (shape=(10,), dtype=object).\n",
            "Pickling array (shape=(10,), dtype=int64).\n",
            "Pickling array (shape=(5,), dtype=int64).\n",
            "Pickling array (shape=(5,), dtype=int64).\n",
            "Pickling array (shape=(10,), dtype=object).\n",
            "Pickling array (shape=(10,), dtype=int64).\n",
            "Pickling array (shape=(5,), dtype=int64).\n",
            "Pickling array (shape=(5,), dtype=int64).\n",
            "Pickling array (shape=(10,), dtype=object).\n",
            "Pickling array (shape=(10,), dtype=int64).\n",
            "Pickling array (shape=(5,), dtype=int64).\n",
            "Pickling array (shape=(5,), dtype=int64).\n",
            "[Parallel(n_jobs=110)]: Done   6 out of  24 | elapsed:   28.7s remaining:  1.4min\n",
            "[Parallel(n_jobs=110)]: Done   7 out of  24 | elapsed:   28.7s remaining:  1.2min\n",
            "[Parallel(n_jobs=110)]: Done   8 out of  24 | elapsed:   28.7s remaining:   57.5s\n",
            "[Parallel(n_jobs=110)]: Done   9 out of  24 | elapsed:   32.2s remaining:   53.6s\n",
            "[Parallel(n_jobs=110)]: Done  10 out of  24 | elapsed:   32.2s remaining:   45.0s\n",
            "[Parallel(n_jobs=110)]: Done  11 out of  24 | elapsed:   32.2s remaining:   38.1s\n",
            "[Parallel(n_jobs=110)]: Done  12 out of  24 | elapsed:   32.3s remaining:   32.3s\n",
            "[Parallel(n_jobs=110)]: Done  13 out of  24 | elapsed:   32.6s remaining:   27.5s\n",
            "[Parallel(n_jobs=110)]: Done  14 out of  24 | elapsed:   32.7s remaining:   23.3s\n",
            "[Parallel(n_jobs=110)]: Done  15 out of  24 | elapsed:   34.0s remaining:   20.4s\n",
            "[Parallel(n_jobs=110)]: Done  16 out of  24 | elapsed:   34.0s remaining:   17.0s\n",
            "[Parallel(n_jobs=110)]: Done  17 out of  24 | elapsed:   34.1s remaining:   14.0s\n",
            "[Parallel(n_jobs=110)]: Done  18 out of  24 | elapsed:   34.1s remaining:   11.4s\n",
            "[Parallel(n_jobs=110)]: Done  19 out of  24 | elapsed:   34.1s remaining:    9.0s\n",
            "[Parallel(n_jobs=110)]: Done  20 out of  24 | elapsed:   34.1s remaining:    6.8s\n",
            "[Parallel(n_jobs=110)]: Done  21 out of  24 | elapsed:   34.1s remaining:    4.9s\n",
            "[Parallel(n_jobs=110)]: Done  22 out of  24 | elapsed:   34.1s remaining:    3.1s\n",
            "[Parallel(n_jobs=110)]: Done  24 out of  24 | elapsed:   34.1s remaining:    0.0s\n"
          ],
          "name": "stdout"
        },
        {
          "output_type": "error",
          "ename": "ValueError",
          "evalue": "ignored",
          "traceback": [
            "\u001b[0;31m---------------------------------------------------------------------------\u001b[0m",
            "\u001b[0;31m_RemoteTraceback\u001b[0m                          Traceback (most recent call last)",
            "\u001b[0;31m_RemoteTraceback\u001b[0m: \n\"\"\"\nTraceback (most recent call last):\n  File \"/usr/local/lib/python3.6/dist-packages/joblib/externals/loky/process_executor.py\", line 418, in _process_worker\n    r = call_item()\n  File \"/usr/local/lib/python3.6/dist-packages/joblib/externals/loky/process_executor.py\", line 272, in __call__\n    return self.fn(*self.args, **self.kwargs)\n  File \"/usr/local/lib/python3.6/dist-packages/joblib/_parallel_backends.py\", line 567, in __call__\n    return self.func(*args, **kwargs)\n  File \"/usr/local/lib/python3.6/dist-packages/joblib/parallel.py\", line 225, in __call__\n    for func, args, kwargs in self.items]\n  File \"/usr/local/lib/python3.6/dist-packages/joblib/parallel.py\", line 225, in <listcomp>\n    for func, args, kwargs in self.items]\n  File \"/usr/local/lib/python3.6/dist-packages/sklearn/model_selection/_validation.py\", line 514, in _fit_and_score\n    estimator.fit(X_train, y_train, **fit_params)\n  File \"/usr/local/lib/python3.6/dist-packages/sklearn/pipeline.py\", line 352, in fit\n    Xt, fit_params = self._fit(X, y, **fit_params)\n  File \"/usr/local/lib/python3.6/dist-packages/sklearn/pipeline.py\", line 317, in _fit\n    **fit_params_steps[name])\n  File \"/usr/local/lib/python3.6/dist-packages/joblib/memory.py\", line 355, in __call__\n    return self.func(*args, **kwargs)\n  File \"/usr/local/lib/python3.6/dist-packages/sklearn/pipeline.py\", line 716, in _fit_transform_one\n    res = transformer.fit_transform(X, y, **fit_params)\n  File \"/usr/local/lib/python3.6/dist-packages/sklearn/feature_extraction/text.py\", line 1058, in fit_transform\n    self.fixed_vocabulary_)\n  File \"/usr/local/lib/python3.6/dist-packages/sklearn/feature_extraction/text.py\", line 989, in _count_vocab\n    raise ValueError(\"empty vocabulary; perhaps the documents only\"\nValueError: empty vocabulary; perhaps the documents only contain stop words\n\"\"\"",
            "\nThe above exception was the direct cause of the following exception:\n",
            "\u001b[0;31mValueError\u001b[0m                                Traceback (most recent call last)",
            "\u001b[0;32m<ipython-input-49-6883dcaec1f1>\u001b[0m in \u001b[0;36m<module>\u001b[0;34m()\u001b[0m\n\u001b[1;32m     27\u001b[0m \u001b[0mprint\u001b[0m\u001b[0;34m(\u001b[0m\u001b[0;34m\"parameters:\"\u001b[0m\u001b[0;34m)\u001b[0m\u001b[0;34m\u001b[0m\u001b[0;34m\u001b[0m\u001b[0m\n\u001b[1;32m     28\u001b[0m \u001b[0mpprint\u001b[0m\u001b[0;34m(\u001b[0m\u001b[0mparameters_1\u001b[0m\u001b[0;34m,\u001b[0m \u001b[0mdepth\u001b[0m\u001b[0;34m=\u001b[0m\u001b[0;36m2\u001b[0m\u001b[0;34m)\u001b[0m\u001b[0;34m\u001b[0m\u001b[0;34m\u001b[0m\u001b[0m\n\u001b[0;32m---> 29\u001b[0;31m \u001b[0mgrid_search_1\u001b[0m\u001b[0;34m.\u001b[0m\u001b[0mfit\u001b[0m\u001b[0;34m(\u001b[0m\u001b[0mX_train\u001b[0m\u001b[0;34m,\u001b[0m \u001b[0my_train\u001b[0m\u001b[0;34m)\u001b[0m\u001b[0;34m\u001b[0m\u001b[0;34m\u001b[0m\u001b[0m\n\u001b[0m\u001b[1;32m     30\u001b[0m \u001b[0mprint\u001b[0m\u001b[0;34m(\u001b[0m\u001b[0;34m\"Best score: %0.3f\"\u001b[0m \u001b[0;34m%\u001b[0m \u001b[0mgrid_search_1\u001b[0m\u001b[0;34m.\u001b[0m\u001b[0mbest_score_\u001b[0m\u001b[0;34m)\u001b[0m\u001b[0;34m\u001b[0m\u001b[0;34m\u001b[0m\u001b[0m\n\u001b[1;32m     31\u001b[0m \u001b[0mprint\u001b[0m\u001b[0;34m(\u001b[0m\u001b[0;34m\"Best parameters set:\"\u001b[0m\u001b[0;34m)\u001b[0m\u001b[0;34m\u001b[0m\u001b[0;34m\u001b[0m\u001b[0m\n",
            "\u001b[0;32m/usr/local/lib/python3.6/dist-packages/sklearn/model_selection/_search.py\u001b[0m in \u001b[0;36mfit\u001b[0;34m(self, X, y, groups, **fit_params)\u001b[0m\n\u001b[1;32m    685\u001b[0m                 \u001b[0;32mreturn\u001b[0m \u001b[0mresults\u001b[0m\u001b[0;34m\u001b[0m\u001b[0;34m\u001b[0m\u001b[0m\n\u001b[1;32m    686\u001b[0m \u001b[0;34m\u001b[0m\u001b[0m\n\u001b[0;32m--> 687\u001b[0;31m             \u001b[0mself\u001b[0m\u001b[0;34m.\u001b[0m\u001b[0m_run_search\u001b[0m\u001b[0;34m(\u001b[0m\u001b[0mevaluate_candidates\u001b[0m\u001b[0;34m)\u001b[0m\u001b[0;34m\u001b[0m\u001b[0;34m\u001b[0m\u001b[0m\n\u001b[0m\u001b[1;32m    688\u001b[0m \u001b[0;34m\u001b[0m\u001b[0m\n\u001b[1;32m    689\u001b[0m         \u001b[0;31m# For multi-metric evaluation, store the best_index_, best_params_ and\u001b[0m\u001b[0;34m\u001b[0m\u001b[0;34m\u001b[0m\u001b[0;34m\u001b[0m\u001b[0m\n",
            "\u001b[0;32m/usr/local/lib/python3.6/dist-packages/sklearn/model_selection/_search.py\u001b[0m in \u001b[0;36m_run_search\u001b[0;34m(self, evaluate_candidates)\u001b[0m\n\u001b[1;32m   1146\u001b[0m     \u001b[0;32mdef\u001b[0m \u001b[0m_run_search\u001b[0m\u001b[0;34m(\u001b[0m\u001b[0mself\u001b[0m\u001b[0;34m,\u001b[0m \u001b[0mevaluate_candidates\u001b[0m\u001b[0;34m)\u001b[0m\u001b[0;34m:\u001b[0m\u001b[0;34m\u001b[0m\u001b[0;34m\u001b[0m\u001b[0m\n\u001b[1;32m   1147\u001b[0m         \u001b[0;34m\"\"\"Search all candidates in param_grid\"\"\"\u001b[0m\u001b[0;34m\u001b[0m\u001b[0;34m\u001b[0m\u001b[0m\n\u001b[0;32m-> 1148\u001b[0;31m         \u001b[0mevaluate_candidates\u001b[0m\u001b[0;34m(\u001b[0m\u001b[0mParameterGrid\u001b[0m\u001b[0;34m(\u001b[0m\u001b[0mself\u001b[0m\u001b[0;34m.\u001b[0m\u001b[0mparam_grid\u001b[0m\u001b[0;34m)\u001b[0m\u001b[0;34m)\u001b[0m\u001b[0;34m\u001b[0m\u001b[0;34m\u001b[0m\u001b[0m\n\u001b[0m\u001b[1;32m   1149\u001b[0m \u001b[0;34m\u001b[0m\u001b[0m\n\u001b[1;32m   1150\u001b[0m \u001b[0;34m\u001b[0m\u001b[0m\n",
            "\u001b[0;32m/usr/local/lib/python3.6/dist-packages/sklearn/model_selection/_search.py\u001b[0m in \u001b[0;36mevaluate_candidates\u001b[0;34m(candidate_params)\u001b[0m\n\u001b[1;32m    664\u001b[0m                                \u001b[0;32mfor\u001b[0m \u001b[0mparameters\u001b[0m\u001b[0;34m,\u001b[0m \u001b[0;34m(\u001b[0m\u001b[0mtrain\u001b[0m\u001b[0;34m,\u001b[0m \u001b[0mtest\u001b[0m\u001b[0;34m)\u001b[0m\u001b[0;34m\u001b[0m\u001b[0;34m\u001b[0m\u001b[0m\n\u001b[1;32m    665\u001b[0m                                in product(candidate_params,\n\u001b[0;32m--> 666\u001b[0;31m                                           cv.split(X, y, groups)))\n\u001b[0m\u001b[1;32m    667\u001b[0m \u001b[0;34m\u001b[0m\u001b[0m\n\u001b[1;32m    668\u001b[0m                 \u001b[0;32mif\u001b[0m \u001b[0mlen\u001b[0m\u001b[0;34m(\u001b[0m\u001b[0mout\u001b[0m\u001b[0;34m)\u001b[0m \u001b[0;34m<\u001b[0m \u001b[0;36m1\u001b[0m\u001b[0;34m:\u001b[0m\u001b[0;34m\u001b[0m\u001b[0;34m\u001b[0m\u001b[0m\n",
            "\u001b[0;32m/usr/local/lib/python3.6/dist-packages/joblib/parallel.py\u001b[0m in \u001b[0;36m__call__\u001b[0;34m(self, iterable)\u001b[0m\n\u001b[1;32m    932\u001b[0m \u001b[0;34m\u001b[0m\u001b[0m\n\u001b[1;32m    933\u001b[0m             \u001b[0;32mwith\u001b[0m \u001b[0mself\u001b[0m\u001b[0;34m.\u001b[0m\u001b[0m_backend\u001b[0m\u001b[0;34m.\u001b[0m\u001b[0mretrieval_context\u001b[0m\u001b[0;34m(\u001b[0m\u001b[0;34m)\u001b[0m\u001b[0;34m:\u001b[0m\u001b[0;34m\u001b[0m\u001b[0;34m\u001b[0m\u001b[0m\n\u001b[0;32m--> 934\u001b[0;31m                 \u001b[0mself\u001b[0m\u001b[0;34m.\u001b[0m\u001b[0mretrieve\u001b[0m\u001b[0;34m(\u001b[0m\u001b[0;34m)\u001b[0m\u001b[0;34m\u001b[0m\u001b[0;34m\u001b[0m\u001b[0m\n\u001b[0m\u001b[1;32m    935\u001b[0m             \u001b[0;31m# Make sure that we get a last message telling us we are done\u001b[0m\u001b[0;34m\u001b[0m\u001b[0;34m\u001b[0m\u001b[0;34m\u001b[0m\u001b[0m\n\u001b[1;32m    936\u001b[0m             \u001b[0melapsed_time\u001b[0m \u001b[0;34m=\u001b[0m \u001b[0mtime\u001b[0m\u001b[0;34m.\u001b[0m\u001b[0mtime\u001b[0m\u001b[0;34m(\u001b[0m\u001b[0;34m)\u001b[0m \u001b[0;34m-\u001b[0m \u001b[0mself\u001b[0m\u001b[0;34m.\u001b[0m\u001b[0m_start_time\u001b[0m\u001b[0;34m\u001b[0m\u001b[0;34m\u001b[0m\u001b[0m\n",
            "\u001b[0;32m/usr/local/lib/python3.6/dist-packages/joblib/parallel.py\u001b[0m in \u001b[0;36mretrieve\u001b[0;34m(self)\u001b[0m\n\u001b[1;32m    831\u001b[0m             \u001b[0;32mtry\u001b[0m\u001b[0;34m:\u001b[0m\u001b[0;34m\u001b[0m\u001b[0;34m\u001b[0m\u001b[0m\n\u001b[1;32m    832\u001b[0m                 \u001b[0;32mif\u001b[0m \u001b[0mgetattr\u001b[0m\u001b[0;34m(\u001b[0m\u001b[0mself\u001b[0m\u001b[0;34m.\u001b[0m\u001b[0m_backend\u001b[0m\u001b[0;34m,\u001b[0m \u001b[0;34m'supports_timeout'\u001b[0m\u001b[0;34m,\u001b[0m \u001b[0;32mFalse\u001b[0m\u001b[0;34m)\u001b[0m\u001b[0;34m:\u001b[0m\u001b[0;34m\u001b[0m\u001b[0;34m\u001b[0m\u001b[0m\n\u001b[0;32m--> 833\u001b[0;31m                     \u001b[0mself\u001b[0m\u001b[0;34m.\u001b[0m\u001b[0m_output\u001b[0m\u001b[0;34m.\u001b[0m\u001b[0mextend\u001b[0m\u001b[0;34m(\u001b[0m\u001b[0mjob\u001b[0m\u001b[0;34m.\u001b[0m\u001b[0mget\u001b[0m\u001b[0;34m(\u001b[0m\u001b[0mtimeout\u001b[0m\u001b[0;34m=\u001b[0m\u001b[0mself\u001b[0m\u001b[0;34m.\u001b[0m\u001b[0mtimeout\u001b[0m\u001b[0;34m)\u001b[0m\u001b[0;34m)\u001b[0m\u001b[0;34m\u001b[0m\u001b[0;34m\u001b[0m\u001b[0m\n\u001b[0m\u001b[1;32m    834\u001b[0m                 \u001b[0;32melse\u001b[0m\u001b[0;34m:\u001b[0m\u001b[0;34m\u001b[0m\u001b[0;34m\u001b[0m\u001b[0m\n\u001b[1;32m    835\u001b[0m                     \u001b[0mself\u001b[0m\u001b[0;34m.\u001b[0m\u001b[0m_output\u001b[0m\u001b[0;34m.\u001b[0m\u001b[0mextend\u001b[0m\u001b[0;34m(\u001b[0m\u001b[0mjob\u001b[0m\u001b[0;34m.\u001b[0m\u001b[0mget\u001b[0m\u001b[0;34m(\u001b[0m\u001b[0;34m)\u001b[0m\u001b[0;34m)\u001b[0m\u001b[0;34m\u001b[0m\u001b[0;34m\u001b[0m\u001b[0m\n",
            "\u001b[0;32m/usr/local/lib/python3.6/dist-packages/joblib/_parallel_backends.py\u001b[0m in \u001b[0;36mwrap_future_result\u001b[0;34m(future, timeout)\u001b[0m\n\u001b[1;32m    519\u001b[0m         AsyncResults.get from multiprocessing.\"\"\"\n\u001b[1;32m    520\u001b[0m         \u001b[0;32mtry\u001b[0m\u001b[0;34m:\u001b[0m\u001b[0;34m\u001b[0m\u001b[0;34m\u001b[0m\u001b[0m\n\u001b[0;32m--> 521\u001b[0;31m             \u001b[0;32mreturn\u001b[0m \u001b[0mfuture\u001b[0m\u001b[0;34m.\u001b[0m\u001b[0mresult\u001b[0m\u001b[0;34m(\u001b[0m\u001b[0mtimeout\u001b[0m\u001b[0;34m=\u001b[0m\u001b[0mtimeout\u001b[0m\u001b[0;34m)\u001b[0m\u001b[0;34m\u001b[0m\u001b[0;34m\u001b[0m\u001b[0m\n\u001b[0m\u001b[1;32m    522\u001b[0m         \u001b[0;32mexcept\u001b[0m \u001b[0mLokyTimeoutError\u001b[0m\u001b[0;34m:\u001b[0m\u001b[0;34m\u001b[0m\u001b[0;34m\u001b[0m\u001b[0m\n\u001b[1;32m    523\u001b[0m             \u001b[0;32mraise\u001b[0m \u001b[0mTimeoutError\u001b[0m\u001b[0;34m(\u001b[0m\u001b[0;34m)\u001b[0m\u001b[0;34m\u001b[0m\u001b[0;34m\u001b[0m\u001b[0m\n",
            "\u001b[0;32m/usr/lib/python3.6/concurrent/futures/_base.py\u001b[0m in \u001b[0;36mresult\u001b[0;34m(self, timeout)\u001b[0m\n\u001b[1;32m    430\u001b[0m                 \u001b[0;32mraise\u001b[0m \u001b[0mCancelledError\u001b[0m\u001b[0;34m(\u001b[0m\u001b[0;34m)\u001b[0m\u001b[0;34m\u001b[0m\u001b[0;34m\u001b[0m\u001b[0m\n\u001b[1;32m    431\u001b[0m             \u001b[0;32melif\u001b[0m \u001b[0mself\u001b[0m\u001b[0;34m.\u001b[0m\u001b[0m_state\u001b[0m \u001b[0;34m==\u001b[0m \u001b[0mFINISHED\u001b[0m\u001b[0;34m:\u001b[0m\u001b[0;34m\u001b[0m\u001b[0;34m\u001b[0m\u001b[0m\n\u001b[0;32m--> 432\u001b[0;31m                 \u001b[0;32mreturn\u001b[0m \u001b[0mself\u001b[0m\u001b[0;34m.\u001b[0m\u001b[0m__get_result\u001b[0m\u001b[0;34m(\u001b[0m\u001b[0;34m)\u001b[0m\u001b[0;34m\u001b[0m\u001b[0;34m\u001b[0m\u001b[0m\n\u001b[0m\u001b[1;32m    433\u001b[0m             \u001b[0;32melse\u001b[0m\u001b[0;34m:\u001b[0m\u001b[0;34m\u001b[0m\u001b[0;34m\u001b[0m\u001b[0m\n\u001b[1;32m    434\u001b[0m                 \u001b[0;32mraise\u001b[0m \u001b[0mTimeoutError\u001b[0m\u001b[0;34m(\u001b[0m\u001b[0;34m)\u001b[0m\u001b[0;34m\u001b[0m\u001b[0;34m\u001b[0m\u001b[0m\n",
            "\u001b[0;32m/usr/lib/python3.6/concurrent/futures/_base.py\u001b[0m in \u001b[0;36m__get_result\u001b[0;34m(self)\u001b[0m\n\u001b[1;32m    382\u001b[0m     \u001b[0;32mdef\u001b[0m \u001b[0m__get_result\u001b[0m\u001b[0;34m(\u001b[0m\u001b[0mself\u001b[0m\u001b[0;34m)\u001b[0m\u001b[0;34m:\u001b[0m\u001b[0;34m\u001b[0m\u001b[0;34m\u001b[0m\u001b[0m\n\u001b[1;32m    383\u001b[0m         \u001b[0;32mif\u001b[0m \u001b[0mself\u001b[0m\u001b[0;34m.\u001b[0m\u001b[0m_exception\u001b[0m\u001b[0;34m:\u001b[0m\u001b[0;34m\u001b[0m\u001b[0;34m\u001b[0m\u001b[0m\n\u001b[0;32m--> 384\u001b[0;31m             \u001b[0;32mraise\u001b[0m \u001b[0mself\u001b[0m\u001b[0;34m.\u001b[0m\u001b[0m_exception\u001b[0m\u001b[0;34m\u001b[0m\u001b[0;34m\u001b[0m\u001b[0m\n\u001b[0m\u001b[1;32m    385\u001b[0m         \u001b[0;32melse\u001b[0m\u001b[0;34m:\u001b[0m\u001b[0;34m\u001b[0m\u001b[0;34m\u001b[0m\u001b[0m\n\u001b[1;32m    386\u001b[0m             \u001b[0;32mreturn\u001b[0m \u001b[0mself\u001b[0m\u001b[0;34m.\u001b[0m\u001b[0m_result\u001b[0m\u001b[0;34m\u001b[0m\u001b[0;34m\u001b[0m\u001b[0m\n",
            "\u001b[0;31mValueError\u001b[0m: empty vocabulary; perhaps the documents only contain stop words"
          ]
        }
      ]
    },
    {
      "cell_type": "code",
      "metadata": {
        "id": "4P2VkGnjDmdq",
        "colab_type": "code",
        "colab": {
          "base_uri": "https://localhost:8080/",
          "height": 408
        },
        "outputId": "977c40eb-133c-4f15-a70a-ea513ad362dc"
      },
      "source": [
        "final_clf = Pipeline([\n",
        "                ('vect', TfidfVectorizer(\n",
        "                                         binary=False,\n",
        "                                         stop_words=stop_words,\n",
        "                                         tokenizer=porter_tokenizer,\n",
        "                                         ngram_range=(1,1),\n",
        "                                         )\n",
        "                ),\n",
        "                ('clf', MultinomialNB(alpha=1.0)),\n",
        "               ])\n",
        "final_clf.fit(X_train, y_train)"
      ],
      "execution_count": 52,
      "outputs": [
        {
          "output_type": "execute_result",
          "data": {
            "text/plain": [
              "Pipeline(memory=None,\n",
              "         steps=[('vect',\n",
              "                 TfidfVectorizer(analyzer='word', binary=False,\n",
              "                                 decode_error='strict',\n",
              "                                 dtype=<class 'numpy.float64'>,\n",
              "                                 encoding='utf-8', input='content',\n",
              "                                 lowercase=True, max_df=1.0, max_features=None,\n",
              "                                 min_df=1, ngram_range=(1, 1), norm='l2',\n",
              "                                 preprocessor=None, smooth_idf=True,\n",
              "                                 stop_words=['\\ufeffঅতএব', 'অথচ', 'অথবা',\n",
              "                                             'অনুযায়ী', 'অনেক', 'অনেকে',\n",
              "                                             'অনেকে...\n",
              "                                             'আগে', 'আগেই', 'আছে', 'আজ',\n",
              "                                             'আদ্যভাগে', 'আপনার', 'আপনি',\n",
              "                                             'আবার', 'আমরা', 'আমাকে', 'আমাদের',\n",
              "                                             'আমার', 'আমি', 'আর', 'আরও', 'ই', ...],\n",
              "                                 strip_accents=None, sublinear_tf=False,\n",
              "                                 token_pattern='(?u)\\\\b\\\\w\\\\w+\\\\b',\n",
              "                                 tokenizer=<function porter_tokenizer at 0x7efc828a2a60>,\n",
              "                                 use_idf=True, vocabulary=None)),\n",
              "                ('clf',\n",
              "                 MultinomialNB(alpha=1.0, class_prior=None, fit_prior=True))],\n",
              "         verbose=False)"
            ]
          },
          "metadata": {
            "tags": []
          },
          "execution_count": 52
        }
      ]
    },
    {
      "cell_type": "code",
      "metadata": {
        "id": "fVtNx1RXFgBx",
        "colab_type": "code",
        "colab": {
          "base_uri": "https://localhost:8080/",
          "height": 292
        },
        "outputId": "540b6f6c-adad-4192-c65c-b5a8f79f9245"
      },
      "source": [
        "!pip install -U statsmodels"
      ],
      "execution_count": 56,
      "outputs": [
        {
          "output_type": "stream",
          "text": [
            "Collecting statsmodels\n",
            "\u001b[?25l  Downloading https://files.pythonhosted.org/packages/60/d6/e9859e68e7d6c916fdff7d8e0958a7f5813485c52fc20d061273eaaddb0c/statsmodels-0.10.1-cp36-cp36m-manylinux1_x86_64.whl (8.1MB)\n",
            "\u001b[K     |████████████████████████████████| 8.1MB 94kB/s \n",
            "\u001b[?25hRequirement already satisfied, skipping upgrade: patsy>=0.4.0 in /usr/local/lib/python3.6/dist-packages (from statsmodels) (0.5.1)\n",
            "Requirement already satisfied, skipping upgrade: scipy>=0.18 in /usr/local/lib/python3.6/dist-packages (from statsmodels) (1.3.0)\n",
            "Requirement already satisfied, skipping upgrade: pandas>=0.19 in /usr/local/lib/python3.6/dist-packages (from statsmodels) (0.24.2)\n",
            "Requirement already satisfied, skipping upgrade: numpy>=1.11 in /usr/local/lib/python3.6/dist-packages (from statsmodels) (1.16.4)\n",
            "Requirement already satisfied, skipping upgrade: six in /usr/local/lib/python3.6/dist-packages (from patsy>=0.4.0->statsmodels) (1.12.0)\n",
            "Requirement already satisfied, skipping upgrade: pytz>=2011k in /usr/local/lib/python3.6/dist-packages (from pandas>=0.19->statsmodels) (2018.9)\n",
            "Requirement already satisfied, skipping upgrade: python-dateutil>=2.5.0 in /usr/local/lib/python3.6/dist-packages (from pandas>=0.19->statsmodels) (2.5.3)\n",
            "Installing collected packages: statsmodels\n",
            "  Found existing installation: statsmodels 0.10.0\n",
            "    Uninstalling statsmodels-0.10.0:\n",
            "      Successfully uninstalled statsmodels-0.10.0\n",
            "Successfully installed statsmodels-0.10.1\n"
          ],
          "name": "stdout"
        }
      ]
    },
    {
      "cell_type": "code",
      "metadata": {
        "id": "i_7WbVABEuol",
        "colab_type": "code",
        "colab": {
          "base_uri": "https://localhost:8080/",
          "height": 153
        },
        "outputId": "efb598a3-4025-4398-e150-e0f0bf95b401"
      },
      "source": [
        "import matplotlib as mpl\n",
        "import numpy as np\n",
        "import seaborn as sns\n",
        "import matplotlib.pyplot as plt\n",
        "%matplotlib inline\n",
        "cm = metrics.confusion_matrix(y_train, final_clf.predict(X_train))\n",
        "\n",
        "np.set_printoptions(suppress=True)\n",
        "mpl.rc(\"figure\", figsize=(4, 2))\n",
        "\n",
        "hm = sns.heatmap(cm, \n",
        "            cbar=False,\n",
        "            annot=True, \n",
        "            square=True,\n",
        "            fmt='d',\n",
        "            yticklabels=['happy','sad'],\n",
        "            xticklabels=['happy','sad'],\n",
        "            cmap='Blues'\n",
        "            )\n",
        "plt.title('Confusion matrix - Training dataset')\n",
        "plt.ylabel('actual class')\n",
        "plt.xlabel('predicted class')\n",
        "plt.tight_layout()\n",
        "plt.savefig('sample_data/confmat_training.eps', dpi=300)\n",
        "plt.show()"
      ],
      "execution_count": 64,
      "outputs": [
        {
          "output_type": "display_data",
          "data": {
            "image/png": "[encoded data removed]",
            "text/plain": [
              "<Figure size 288x144 with 1 Axes>"
            ]
          },
          "metadata": {
            "tags": []
          }
        }
      ]
    },
    {
      "cell_type": "code",
      "metadata": {
        "id": "PPoWnOa3IfFz",
        "colab_type": "code",
        "colab": {}
      },
      "source": [
        "df = pd.read_csv('sample_data/train_lyrics_bangla.txt')\n",
        "\n",
        "X_valid = df['lyrics'].values \n",
        "y_valid = df['mood'].values\n",
        "\n",
        "y_valid = le.transform(y_valid)"
      ],
      "execution_count": 0,
      "outputs": []
    },
    {
      "cell_type": "code",
      "metadata": {
        "id": "Shc1UvjaIpfx",
        "colab_type": "code",
        "colab": {
          "base_uri": "https://localhost:8080/",
          "height": 153
        },
        "outputId": "8652f11d-d0bb-40f6-f672-a3d0fd7403e7"
      },
      "source": [
        "cm = metrics.confusion_matrix(y_valid, final_clf.predict(X_valid))\n",
        "\n",
        "np.set_printoptions(suppress=True)\n",
        "mpl.rc(\"figure\", figsize=(4, 2))\n",
        "\n",
        "hm = sns.heatmap(cm, \n",
        "            cbar=False,\n",
        "            annot=True, \n",
        "            square=True,\n",
        "            fmt='d',\n",
        "            yticklabels=['happy','sad'],\n",
        "            xticklabels=['happy','sad'],\n",
        "            cmap='Blues'\n",
        "            )\n",
        "plt.title('Confusion matrix - Validation dataset')\n",
        "plt.ylabel('actual class')\n",
        "plt.xlabel('predicted class')\n",
        "plt.tight_layout()\n",
        "plt.savefig('sample_data/confmat_valid.eps', dpi=300)\n",
        "plt.show()"
      ],
      "execution_count": 67,
      "outputs": [
        {
          "output_type": "display_data",
          "data": {
            "image/png": "[encoded data removed]",
            "text/plain": [
              "<Figure size 288x144 with 1 Axes>"
            ]
          },
          "metadata": {
            "tags": []
          }
        }
      ]
    },
    {
      "cell_type": "code",
      "metadata": {
        "id": "JDydZRF4Iy6h",
        "colab_type": "code",
        "colab": {}
      },
      "source": [
        "# Custom scorer methods to account for positive-negative class labels\n",
        "\n",
        "from sklearn import metrics\n",
        "\n",
        "# `pos_label` for positive class, since we have sad=1, happy=0\n",
        "\n",
        "acc_scorer = metrics.make_scorer(metrics.accuracy_score, greater_is_better=True)\n",
        "pre_scorer = metrics.make_scorer(metrics.precision_score, greater_is_better=True, pos_label=0)\n",
        "rec_scorer = metrics.make_scorer(metrics.recall_score, greater_is_better=True, pos_label=0)\n",
        "f1_scorer = metrics.make_scorer(metrics.f1_score, greater_is_better=True, pos_label=0)\n",
        "auc_scorer = metrics.make_scorer(metrics.roc_auc_score, greater_is_better=True)"
      ],
      "execution_count": 0,
      "outputs": []
    },
    {
      "cell_type": "code",
      "metadata": {
        "id": "lRoTaqlsI3Px",
        "colab_type": "code",
        "colab": {}
      },
      "source": [
        "d = {'Data':['Training', 'Validation'],\n",
        "     'ACC (%)':[],\n",
        "     'PRE (%)':[],\n",
        "     'REC (%)':[],\n",
        "     'F1 (%)':[],\n",
        "     'ROC AUC (%)':[],\n",
        "}"
      ],
      "execution_count": 0,
      "outputs": []
    },
    {
      "cell_type": "code",
      "metadata": {
        "id": "ewWxSuTyI64o",
        "colab_type": "code",
        "colab": {}
      },
      "source": [
        "d['ACC (%)'].append(acc_scorer(estimator=final_clf, X=X_train, y_true=y_train))\n",
        "d['PRE (%)'].append(pre_scorer(estimator=final_clf, X=X_train, y_true=y_train))\n",
        "d['REC (%)'].append(rec_scorer(estimator=final_clf, X=X_train, y_true=y_train))\n",
        "d['F1 (%)'].append(f1_scorer(estimator=final_clf, X=X_train, y_true=y_train))\n",
        "d['ROC AUC (%)'].append(auc_scorer(estimator=final_clf, X=X_train, y_true=y_train))\n",
        "\n",
        "d['ACC (%)'].append(acc_scorer(estimator=final_clf, X=X_valid, y_true=y_valid))\n",
        "d['PRE (%)'].append(pre_scorer(estimator=final_clf, X=X_valid, y_true=y_valid))\n",
        "d['REC (%)'].append(rec_scorer(estimator=final_clf, X=X_valid, y_true=y_valid))\n",
        "d['F1 (%)'].append(f1_scorer(estimator=final_clf, X=X_valid, y_true=y_valid))\n",
        "d['ROC AUC (%)'].append(auc_scorer(estimator=final_clf, X=X_valid, y_true=y_valid))"
      ],
      "execution_count": 0,
      "outputs": []
    },
    {
      "cell_type": "code",
      "metadata": {
        "id": "5h1Zg_6YI-cI",
        "colab_type": "code",
        "colab": {
          "base_uri": "https://localhost:8080/",
          "height": 111
        },
        "outputId": "0c5a87f3-84a2-4bce-a987-c2d0cb3d3943"
      },
      "source": [
        "df_perform = pd.DataFrame(d)\n",
        "df_perform = df_perform[['ACC (%)', 'PRE (%)', 'REC (%)', 'F1 (%)', 'ROC AUC (%)']]\n",
        "df_perform.index=(['Training', 'Validation'])\n",
        "df_perform = df_perform*100\n",
        "df_perform = np.round(df_perform, decimals=2)\n",
        "df_perform"
      ],
      "execution_count": 71,
      "outputs": [
        {
          "output_type": "execute_result",
          "data": {
            "text/html": [
              "<div>\n",
              "<style scoped>\n",
              "    .dataframe tbody tr th:only-of-type {\n",
              "        vertical-align: middle;\n",
              "    }\n",
              "\n",
              "    .dataframe tbody tr th {\n",
              "        vertical-align: top;\n",
              "    }\n",
              "\n",
              "    .dataframe thead th {\n",
              "        text-align: right;\n",
              "    }\n",
              "</style>\n",
              "<table border=\"1\" class=\"dataframe\">\n",
              "  <thead>\n",
              "    <tr style=\"text-align: right;\">\n",
              "      <th></th>\n",
              "      <th>ACC (%)</th>\n",
              "      <th>PRE (%)</th>\n",
              "      <th>REC (%)</th>\n",
              "      <th>F1 (%)</th>\n",
              "      <th>ROC AUC (%)</th>\n",
              "    </tr>\n",
              "  </thead>\n",
              "  <tbody>\n",
              "    <tr>\n",
              "      <th>Training</th>\n",
              "      <td>100.0</td>\n",
              "      <td>100.0</td>\n",
              "      <td>100.0</td>\n",
              "      <td>100.0</td>\n",
              "      <td>100.0</td>\n",
              "    </tr>\n",
              "    <tr>\n",
              "      <th>Validation</th>\n",
              "      <td>100.0</td>\n",
              "      <td>100.0</td>\n",
              "      <td>100.0</td>\n",
              "      <td>100.0</td>\n",
              "      <td>100.0</td>\n",
              "    </tr>\n",
              "  </tbody>\n",
              "</table>\n",
              "</div>"
            ],
            "text/plain": [
              "            ACC (%)  PRE (%)  REC (%)  F1 (%)  ROC AUC (%)\n",
              "Training      100.0    100.0    100.0   100.0        100.0\n",
              "Validation    100.0    100.0    100.0   100.0        100.0"
            ]
          },
          "metadata": {
            "tags": []
          },
          "execution_count": 71
        }
      ]
    },
    {
      "cell_type": "code",
      "metadata": {
        "id": "26Cubmj1JCC4",
        "colab_type": "code",
        "colab": {}
      },
      "source": [
        "df_perform.to_csv('sample_data/clf_performance.csv', index_label=False)"
      ],
      "execution_count": 0,
      "outputs": []
    },
    {
      "cell_type": "code",
      "metadata": {
        "id": "8yq0sjglJLjB",
        "colab_type": "code",
        "colab": {}
      },
      "source": [
        "lyrics_clf_1000 = final_clf\n",
        "\n",
        "pickle_out = open('sample_data/lyrics_clf_1000_py27_our_own.pkl', 'wb')\n",
        "pickle.dump(lyrics_clf_1000, pickle_out)\n",
        "pickle_out.close()"
      ],
      "execution_count": 0,
      "outputs": []
    }
  ]
}